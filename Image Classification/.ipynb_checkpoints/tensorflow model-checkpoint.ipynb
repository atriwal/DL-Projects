{
 "cells": [
  {
   "cell_type": "code",
   "execution_count": 1,
   "metadata": {},
   "outputs": [
    {
     "name": "stderr",
     "output_type": "stream",
     "text": [
      "/usr/local/lib/python3.5/dist-packages/h5py/__init__.py:36: FutureWarning: Conversion of the second argument of issubdtype from `float` to `np.floating` is deprecated. In future, it will be treated as `np.float64 == np.dtype(float).type`.\n",
      "  from ._conv import register_converters as _register_converters\n"
     ]
    }
   ],
   "source": [
    "import tensorflow as tf\n",
    "import os\n",
    "import sys\n",
    "from six.moves import urllib\n",
    "import tarfile\n",
    "from sklearn.model_selection import train_test_split\n",
    "from tensorflow.python.platform import gfile\n",
    "import numpy as np"
   ]
  },
  {
   "cell_type": "code",
   "execution_count": 2,
   "metadata": {},
   "outputs": [],
   "source": [
    "tf.logging.set_verbosity(tf.logging.INFO)"
   ]
  },
  {
   "cell_type": "code",
   "execution_count": 3,
   "metadata": {},
   "outputs": [],
   "source": [
    "model_info = {\n",
    "      'data_url': 'http://download.tensorflow.org/models/image/imagenet/inception-2015-12-05.tgz',\n",
    "      'bottleneck_tensor_name': 'pool_3/_reshape:0',\n",
    "      'bottleneck_tensor_size': 2048,\n",
    "      'input_width': 299,\n",
    "      'input_height': 299,\n",
    "      'input_depth': 3,\n",
    "      'resized_input_tensor_name': 'Mul:0',\n",
    "      'model_file_name': 'classify_image_graph_def.pb',\n",
    "      'input_mean': 128,\n",
    "      'input_std': 128,\n",
    "      'quantize_layer': False,\n",
    "  }"
   ]
  },
  {
   "cell_type": "code",
   "execution_count": 4,
   "metadata": {},
   "outputs": [
    {
     "name": "stdout",
     "output_type": "stream",
     "text": [
      "Not extracting or downloading files, model already present in disk\n"
     ]
    }
   ],
   "source": [
    "dest_directory = 'pretrained_model'\n",
    "if not os.path.exists(dest_directory):\n",
    "    os.makedirs(dest_directory)\n",
    "data_url = model_info.get('data_url')\n",
    "filename = data_url.split('/')[-1]\n",
    "filepath = os.path.join(dest_directory, filename)\n",
    "if not os.path.exists(filepath):\n",
    "\n",
    "    def _progress(count, block_size, total_size):\n",
    "        sys.stdout.write('\\r>> Downloading %s %.1f%%' %\n",
    "                       (filename,\n",
    "                        float(count * block_size) / float(total_size) * 100.0))\n",
    "        sys.stdout.flush()\n",
    "\n",
    "    filepath, _ = urllib.request.urlretrieve(data_url, filepath, _progress)\n",
    "    print()\n",
    "    statinfo = os.stat(filepath)\n",
    "    tf.logging.info('Successfully downloaded', filename, statinfo.st_size,\n",
    "                    'bytes.')\n",
    "    print('Extracting file from ', filepath)\n",
    "    tarfile.open(filepath, 'r:gz').extractall(dest_directory)\n",
    "else:\n",
    "    print('Not extracting or downloading files, model already present in disk')\n"
   ]
  },
  {
   "cell_type": "code",
   "execution_count": 5,
   "metadata": {},
   "outputs": [
    {
     "name": "stdout",
     "output_type": "stream",
     "text": [
      "Model path:  pretrained_model/classify_image_graph_def.pb\n"
     ]
    }
   ],
   "source": [
    "with tf.Graph().as_default() as graph:\n",
    "    model_path = os.path.join('pretrained_model', model_info['model_file_name'])\n",
    "    print('Model path: ', model_path)\n",
    "    with gfile.FastGFile(model_path, 'rb') as f:\n",
    "        graph_def = tf.GraphDef()\n",
    "        graph_def.ParseFromString(f.read())\n",
    "        bottleneck_tensor, resized_input_tensor = (tf.import_graph_def(\n",
    "          graph_def,\n",
    "          name='',\n",
    "          return_elements=[\n",
    "              model_info['bottleneck_tensor_name'],\n",
    "              model_info['resized_input_tensor_name'],\n",
    "          ]))"
   ]
  },
  {
   "cell_type": "code",
   "execution_count": 6,
   "metadata": {},
   "outputs": [],
   "source": [
    "image_list = {}\n",
    "parent_dir = 'input/flower_photos/'\n",
    "for sub_dir in os.listdir(parent_dir):\n",
    "    images = os.listdir(parent_dir + '/' + sub_dir)\n",
    "    train, validate, test = np.split(images, [int(.6*len(images)), int(.8*len(images))])\n",
    "    image_list[sub_dir] = {\n",
    "        'dir': sub_dir,\n",
    "        'training': train,\n",
    "        'testing': validate,\n",
    "        'validation': test,\n",
    "    }"
   ]
  },
  {
   "cell_type": "code",
   "execution_count": null,
   "metadata": {},
   "outputs": [],
   "source": [
    "class_count = len(image_lists.keys())"
   ]
  }
 ],
 "metadata": {
  "kernelspec": {
   "display_name": "Python 3",
   "language": "python",
   "name": "python3"
  },
  "language_info": {
   "codemirror_mode": {
    "name": "ipython",
    "version": 3
   },
   "file_extension": ".py",
   "mimetype": "text/x-python",
   "name": "python",
   "nbconvert_exporter": "python",
   "pygments_lexer": "ipython3",
   "version": "3.5.2"
  }
 },
 "nbformat": 4,
 "nbformat_minor": 2
}
